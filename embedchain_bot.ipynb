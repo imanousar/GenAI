{
 "cells": [
  {
   "cell_type": "code",
   "execution_count": 1,
   "metadata": {},
   "outputs": [
    {
     "name": "stdout",
     "output_type": "stream",
     "text": [
      "Successfully saved https://en.wikipedia.org/wiki/Elon_Musk (DataType.WEB_PAGE). New chunks count: 364\n"
     ]
    }
   ],
   "source": [
    "# pip install embedchain\n",
    "# https://docs.embedchain.ai/quickstart\n",
    "# https://github.com/embedchain/embedchain\n",
    "\n",
    "import os\n",
    "from embedchain import App\n",
    "\n",
    "# Create a bot instance\n",
    "\n",
    "elon_bot = App()\n",
    "\n",
    "# Embed online resources\n",
    "elon_bot.add(\"https://en.wikipedia.org/wiki/Elon_Musk\")\n",
    "elon_bot.add(\"https://tesla.com/elon-musk\")\n",
    "elon_bot.add(\"https://www.youtube.com/watch?v=MxZpaJK74Y4\")\n",
    "\n",
    "# Query the bot\n",
    "elon_bot.query(\"How many companies does Elon Musk run?\")\n",
    "# Answer: Elon Musk runs four companies: Tesla, SpaceX, Neuralink, and The Boring Company"
   ]
  }
 ],
 "metadata": {
  "kernelspec": {
   "display_name": "venv",
   "language": "python",
   "name": "python3"
  },
  "language_info": {
   "codemirror_mode": {
    "name": "ipython",
    "version": 3
   },
   "file_extension": ".py",
   "mimetype": "text/x-python",
   "name": "python",
   "nbconvert_exporter": "python",
   "pygments_lexer": "ipython3",
   "version": "3.10.9"
  },
  "orig_nbformat": 4
 },
 "nbformat": 4,
 "nbformat_minor": 2
}
