{
 "cells": [
  {
   "cell_type": "code",
   "execution_count": 3,
   "metadata": {},
   "outputs": [
    {
     "name": "stdout",
     "output_type": "stream",
     "text": [
      "All data from https://www.youtube.com/watch?v=5p248yoa3oE already exists in the database.\n"
     ]
    },
    {
     "data": {
      "text/plain": [
       "'227ee7c1e2defc10ee42b6e74ea4a206'"
      ]
     },
     "execution_count": 3,
     "metadata": {},
     "output_type": "execute_result"
    }
   ],
   "source": [
    "# pip install embedchain\n",
    "# https://docs.embedchain.ai/quickstart\n",
    "# https://github.com/embedchain/embedchain\n",
    "\n",
    "import os\n",
    "from embedchain import App\n",
    "\n",
    "# Create a bot instance\n",
    "bot = App()\n",
    "\n",
    "# Embed online resources\n",
    "bot.add(\"https://www.youtube.com/watch?v=5p248yoa3oE\")"
   ]
  },
  {
   "cell_type": "code",
   "execution_count": 4,
   "metadata": {},
   "outputs": [
    {
     "data": {
      "text/plain": [
       "'The AI opportunities that Andrew NG presented in \"Opportunities in AI - 2023\" are supervised learning and generative AI.'"
      ]
     },
     "execution_count": 4,
     "metadata": {},
     "output_type": "execute_result"
    }
   ],
   "source": [
    "# Query the bot\n",
    "bot.query(\"Name the AI opportunities that Andrew NG presented in Opportunities in AI - 2023\")"
   ]
  },
  {
   "cell_type": "code",
   "execution_count": 6,
   "metadata": {},
   "outputs": [
    {
     "data": {
      "text/plain": [
       "'In the given context, Andrew Ng describes AI as a \"general purpose technology\" and compares it to electricity.'"
      ]
     },
     "execution_count": 6,
     "metadata": {},
     "output_type": "execute_result"
    }
   ],
   "source": [
    "# Query the bot\n",
    "bot.query(\"Andrew Ng in Opportunities in AI - 2023 describes AI as a ...?\")"
   ]
  }
 ],
 "metadata": {
  "kernelspec": {
   "display_name": "venv",
   "language": "python",
   "name": "python3"
  },
  "language_info": {
   "codemirror_mode": {
    "name": "ipython",
    "version": 3
   },
   "file_extension": ".py",
   "mimetype": "text/x-python",
   "name": "python",
   "nbconvert_exporter": "python",
   "pygments_lexer": "ipython3",
   "version": "3.10.9"
  },
  "orig_nbformat": 4
 },
 "nbformat": 4,
 "nbformat_minor": 2
}
