{
 "cells": [
  {
   "cell_type": "markdown",
   "id": "728f1747-b8fc-4d31-96c2-047fc83c079d",
   "metadata": {},
   "source": [
    "## Answering-Bot for  a Single Question\n",
    "\n",
    "Using the Wikipedia Document Loader Integration to answer questions\n",
    "- The function that accepts a famous historical figure name and a question about them\n",
    "- The ChatModel to answer questions with the additional context from wikipedia"
   ]
  },
  {
   "cell_type": "code",
   "execution_count": 1,
   "id": "244f42d8-2349-446e-a1c2-ae4b8d3ee38f",
   "metadata": {},
   "outputs": [],
   "source": [
    "# !pip install wikipedia\n",
    "\n",
    "import os \n",
    "\n",
    "api_key = os.getenv('OPENAI_KEY')"
   ]
  },
  {
   "cell_type": "code",
   "execution_count": 3,
   "id": "2a539244-89c6-4019-8608-1cdf51ba1983",
   "metadata": {},
   "outputs": [],
   "source": [
    "from langchain.prompts import (\n",
    "    ChatPromptTemplate,\n",
    "    SystemMessagePromptTemplate,\n",
    "    HumanMessagePromptTemplate,\n",
    ")\n",
    "from langchain.chat_models import ChatOpenAI\n",
    "from langchain.document_loaders import WikipediaLoader\n",
    "\n",
    "from langchain.tools import WikipediaQueryRun\n",
    "from langchain.utilities import WikipediaAPIWrapper\n"
   ]
  },
  {
   "cell_type": "code",
   "execution_count": 44,
   "id": "eba1cf4e",
   "metadata": {},
   "outputs": [],
   "source": [
    "def answer_question_about(person_name,question):\n",
    "    \n",
    "    '''\n",
    "    A function that use the Wikipedia Document Loader to help answer questions \n",
    "    about someone.\n",
    "    '''\n",
    "\n",
    "    # Get extra info \n",
    "    wikipedia = WikipediaQueryRun(api_wrapper=WikipediaAPIWrapper())\n",
    "    additional_wiki_content = wikipedia.run(person_name.upper(),\n",
    "                                        maxDocContentLength = 4000,\n",
    "                                        topKResults = 3)\n",
    "    \n",
    "    # Create model\n",
    "    model = ChatOpenAI(openai_api_key=api_key)\n",
    "\n",
    "    human_message_prompt = HumanMessagePromptTemplate.from_template('{question}')\n",
    "\n",
    "    system_template = \"\"\" You are an expert in summarizing information about \n",
    "                          people and providing the most useful info about them.\n",
    "                           \n",
    "                          Additionally, you can always use the information\n",
    "                          provided by the {wiki}.\n",
    "\n",
    "                          Instructions to follow:\n",
    "                          - Try to not use more than 50 words in your reply \n",
    "                          - If the request is a list provide them in the follow\n",
    "                            format: \n",
    "                                Some text here:\n",
    "                                - item 1 : Short description if neeeded\n",
    "                                - item 2 : Short description if neeeded\n",
    "                                - item 3 : Short description if neeeded\n",
    "                          \"\"\" \n",
    "    system_message_prompt = SystemMessagePromptTemplate.from_template(system_template)\n",
    "    \n",
    "    chat_prompt = ChatPromptTemplate.from_messages([system_message_prompt, \n",
    "                                                    human_message_prompt])\n",
    "\n",
    "    request = chat_prompt.format_prompt(question=question, \n",
    "                                        wiki =additional_wiki_content).to_messages()\n",
    "\n",
    "    answer = model(request, temperature = 0.2)\n",
    "    return answer"
   ]
  },
  {
   "cell_type": "code",
   "execution_count": 34,
   "id": "e3a43963-57d4-44c5-8d28-b6164b2c0b83",
   "metadata": {},
   "outputs": [],
   "source": [
    "answer = answer_question_about(\"Geralt of Rivia\",\"Which monsters has he killed?\")\n"
   ]
  },
  {
   "cell_type": "code",
   "execution_count": 35,
   "id": "947652dc",
   "metadata": {},
   "outputs": [
    {
     "name": "stdout",
     "output_type": "stream",
     "text": [
      "Geralt of Rivia has killed various monsters throughout The Witcher series, including:\n",
      "- Dragons: Powerful and fearsome creatures.\n",
      "- Griffins: Majestic creatures with the body of a lion and the head and wings of an eagle.\n",
      "- Werewolves: Humans who transform into wolf-like creatures during the full moon.\n",
      "- Vampires: Immortal beings that feed on blood.\n",
      "- Drowners: Water-dwelling monsters that prey on unsuspecting victims.\n",
      "- Ghouls: Corpse-eating creatures that roam graveyards and battlefields.\n",
      "- Wraiths: Ghostly entities that haunt specific locations.\n",
      "- Nekkers: Small, goblin-like creatures that live in forests and caves.\n",
      "- Harpies: Bird-like creatures with the bodies of women.\n",
      "- Leshens: Ancient forest spirits that protect their territory.\n",
      "- Basilisks: Serpent-like creatures with deadly gazes.\n",
      "- and many more.\n"
     ]
    }
   ],
   "source": [
    "print(answer.content)"
   ]
  },
  {
   "cell_type": "code",
   "execution_count": 36,
   "id": "439d4e06",
   "metadata": {},
   "outputs": [
    {
     "name": "stdout",
     "output_type": "stream",
     "text": [
      "Geralt of Rivia uses various Signs, which are magical abilities, in The Witcher series. Some of the Signs he uses include:\n",
      "- Igni: A fire-based Sign that allows Geralt to create and manipulate flames.\n",
      "- Aard: A telekinetic Sign that allows Geralt to push back and knock down enemies.\n",
      "- Quen: A protective Sign that creates a magical shield around Geralt, absorbing damage.\n",
      "- Axii: A mind-control Sign that allows Geralt to influence and manipulate the thoughts and actions of others.\n",
      "- Yrden: A trapping Sign that creates a magical trap on the ground, slowing down and immobilizing enemies.\n",
      "- Heliotrop: A Sign unique to Geralt, which allows him to heal himself and others.\n"
     ]
    }
   ],
   "source": [
    "answer = answer_question_about(\"Geralt of Rivia\",\"Which are the Sign he uses?\")\n",
    "print(answer.content)"
   ]
  },
  {
   "cell_type": "code",
   "execution_count": 45,
   "id": "4d79acc8",
   "metadata": {},
   "outputs": [
    {
     "name": "stdout",
     "output_type": "stream",
     "text": [
      "Season 3 of Netflix's The Witcher consists of eight episodes released in two volumes. It continues the story of Geralt of Rivia, Yennefer of Vengerberg, and Princess Ciri as they navigate the dangerous and magical world of the Continent. The season delves deeper into the characters' backstories, relationships, and the ongoing conflicts between different factions.\n"
     ]
    }
   ],
   "source": [
    "answer = answer_question_about(\"Geralt of Rivia\",\"What happens in Season 3 Netflix?\")\n",
    "print(answer.content)"
   ]
  },
  {
   "cell_type": "code",
   "execution_count": null,
   "id": "c08d6062",
   "metadata": {},
   "outputs": [],
   "source": []
  }
 ],
 "metadata": {
  "kernelspec": {
   "display_name": "Python 3 (ipykernel)",
   "language": "python",
   "name": "python3"
  },
  "language_info": {
   "codemirror_mode": {
    "name": "ipython",
    "version": 3
   },
   "file_extension": ".py",
   "mimetype": "text/x-python",
   "name": "python",
   "nbconvert_exporter": "python",
   "pygments_lexer": "ipython3",
   "version": "3.9.12"
  }
 },
 "nbformat": 4,
 "nbformat_minor": 5
}
